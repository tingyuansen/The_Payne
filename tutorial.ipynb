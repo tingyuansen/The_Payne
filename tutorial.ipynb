{
 "cells": [
  {
   "cell_type": "markdown",
   "id": "4f02f540",
   "metadata": {},
   "source": [
    "# The Payne Tutorial: Stellar Parameter Determination with Neural Networks\n",
    "\n",
    "**Welcome!** This tutorial will guide you through using The Payne to:\n",
    "1. 🔮 **Predict stellar spectra** from physical parameters\n",
    "2. 🎯 **Fit observed spectra** to determine stellar parameters  \n",
    "3. 🧠 **Train custom neural networks** on spectral grids\n",
    "\n",
    "---\n",
    "\n",
    "## Table of Contents\n",
    "1. [Introduction & Setup](#introduction)\n",
    "2. [Use Case 1: Predicting Stellar Spectra](#use-case-1)\n",
    "3. [Use Case 2: Fitting Observed Spectra](#use-case-2)\n",
    "4. [Use Case 3: Training Neural Networks](#use-case-3)\n",
    "5. [Advanced Topics](#advanced)\n",
    "6. [Summary & Best Practices](#summary)"
   ]
  },
  {
   "cell_type": "markdown",
   "id": "2a4550d2",
   "metadata": {},
   "source": [
    "<a id='introduction'></a>\n",
    "## 1. Introduction & Setup\n",
    "\n",
    "### What is The Payne?\n",
    "\n",
    "The Payne uses **neural networks** to learn the relationship between stellar parameters (temperature, surface gravity, chemical abundances) and their spectra. This allows for:\n",
    "- **Fast spectrum generation** (milliseconds vs hours for physics models)\n",
    "- **Accurate parameter fitting** with uncertainty estimates\n",
    "- **25+ stellar parameters** including detailed abundances\n",
    "\n",
    "### The Class-Based Interface\n",
    "\n",
    "The Payne provides three main classes:\n",
    "- **`PaynePredictor`**: Generate synthetic spectra\n",
    "- **`PayneFitter`**: Fit observed spectra\n",
    "- **`PayneTrainer`**: Train new models\n",
    "\n",
    "Let's get started!"
   ]
  },
  {
   "cell_type": "code",
   "execution_count": null,
   "id": "f12c5462",
   "metadata": {},
   "outputs": [],
   "source": [
    "# Import required packages\n",
    "import numpy as np\n",
    "import matplotlib.pyplot as plt\n",
    "%matplotlib inline\n",
    "\n",
    "# Configure plots for better visualization\n",
    "plt.rcParams['figure.figsize'] = (12, 5)\n",
    "plt.rcParams['font.size'] = 11\n",
    "\n",
    "# Import The Payne classes\n",
    "from The_Payne import PaynePredictor, PayneFitter, PayneTrainer\n",
    "from The_Payne import utils\n",
    "\n",
    "print(\"✓ Imports successful!\")"
   ]
  },
  {
   "cell_type": "markdown",
   "id": "234c7287",
   "metadata": {},
   "source": [
    "<a id='use-case-1'></a>\n",
    "## 2. Use Case 1: Predicting Stellar Spectra\n",
    "\n",
    "In this section, we'll learn how to generate synthetic stellar spectra from physical parameters.\n",
    "\n",
    "### 2.1 Initialize the Predictor"
   ]
  },
  {
   "cell_type": "code",
   "execution_count": null,
   "id": "630afcf7",
   "metadata": {},
   "outputs": [],
   "source": [
    "# Create a predictor instance\n",
    "predictor = PaynePredictor()\n",
    "\n",
    "# Display information about the loaded model\n",
    "print(predictor)\n",
    "print(f\"\\nThe model predicts {predictor.num_pixels} wavelength pixels\")\n",
    "print(f\"Wavelength range: {predictor.wavelength[0]:.2f} - {predictor.wavelength[-1]:.2f} Å\")"
   ]
  },
  {
   "cell_type": "markdown",
   "id": "3adcd05b",
   "metadata": {},
   "source": [
    "### 2.2 Understanding Stellar Labels\n",
    "\n",
    "The Payne works with **25 stellar labels**. Let's see what they are:"
   ]
  },
  {
   "cell_type": "code",
   "execution_count": null,
   "id": "a77aee2a",
   "metadata": {},
   "outputs": [],
   "source": [
    "# Get the label names\n",
    "label_names = predictor.get_label_names()\n",
    "\n",
    "print(\"Stellar labels (total: 25):\")\n",
    "print(\"\\nPhysical Parameters:\")\n",
    "for i, name in enumerate(label_names[:3]):\n",
    "    print(f\"  {i}: {name}\")\n",
    "\n",
    "print(\"\\nChemical Abundances:\")\n",
    "for i, name in enumerate(label_names[3:23], start=3):\n",
    "    print(f\"  {i}: {name}\", end=\"  \")\n",
    "    if (i-2) % 5 == 0:\n",
    "        print()\n",
    "\n",
    "print(\"\\n\\nOther Parameters:\")\n",
    "for i, name in enumerate(label_names[23:], start=23):\n",
    "    print(f\"  {i}: {name}\")"
   ]
  },
  {
   "cell_type": "markdown",
   "id": "fa0952d5",
   "metadata": {},
   "source": [
    "### 2.3 Example 1: Solar-Type Star\n",
    "\n",
    "Let's predict the spectrum of a star similar to our Sun."
   ]
  },
  {
   "cell_type": "code",
   "execution_count": null,
   "id": "c6efc6d9",
   "metadata": {},
   "outputs": [],
   "source": [
    "# Get default labels (mid-range values)\n",
    "solar_labels = predictor.get_default_labels()\n",
    "\n",
    "# Set solar parameters\n",
    "solar_labels[0] = 5777   # Teff (K)\n",
    "solar_labels[1] = 4.44   # logg (cgs)\n",
    "solar_labels[2] = 1.0    # Vturb (km/s)\n",
    "solar_labels[18] = 0.0   # [Fe/H] = 0.0 (solar metallicity)\n",
    "\n",
    "# Predict spectrum with radial velocity\n",
    "solar_spectrum = predictor.predict_spectrum(solar_labels, rv=30.0)\n",
    "\n",
    "print(\"✓ Solar spectrum predicted!\")\n",
    "print(f\"  Spectrum shape: {solar_spectrum.shape}\")\n",
    "print(f\"  Flux range: {solar_spectrum.min():.4f} - {solar_spectrum.max():.4f}\")"
   ]
  },
  {
   "cell_type": "markdown",
   "id": "b1d23f8c",
   "metadata": {},
   "source": [
    "### 2.4 Visualize the Solar Spectrum"
   ]
  },
  {
   "cell_type": "code",
   "execution_count": null,
   "id": "9835b312",
   "metadata": {},
   "outputs": [],
   "source": [
    "# Plot a region of the spectrum\n",
    "wavelength = predictor.get_wavelength()\n",
    "wave_min, wave_max = 16000, 16100\n",
    "mask = (wavelength >= wave_min) & (wavelength <= wave_max)\n",
    "\n",
    "plt.figure(figsize=(14, 5))\n",
    "plt.plot(wavelength[mask], solar_spectrum[mask], 'k-', lw=1.5, label='Solar-type star')\n",
    "plt.xlabel('Wavelength (Å)', fontsize=13)\n",
    "plt.ylabel('Normalized Flux', fontsize=13)\n",
    "plt.title('Predicted Stellar Spectrum (Teff=5777 K, logg=4.44, [Fe/H]=0.0)', fontsize=14, fontweight='bold')\n",
    "plt.grid(True, alpha=0.3)\n",
    "plt.legend(fontsize=12)\n",
    "plt.ylim(0.7, 1.05)\n",
    "plt.tight_layout()\n",
    "plt.show()"
   ]
  },
  {
   "cell_type": "markdown",
   "id": "efc18e82",
   "metadata": {},
   "source": [
    "---\n",
    "<a id='use-case-2'></a>\n",
    "## 3. Use Case 2: Fitting Observed Spectra\n",
    "\n",
    "Now we'll learn how to **fit observed spectra** to determine stellar parameters.\n",
    "\n",
    "### 3.1 Initialize the Fitter"
   ]
  },
  {
   "cell_type": "code",
   "execution_count": null,
   "id": "62940a7e",
   "metadata": {},
   "outputs": [],
   "source": [
    "# Create a fitter instance\n",
    "fitter = PayneFitter(use_mask=True)\n",
    "\n",
    "print(fitter)\n",
    "print(f\"\\nMasked pixels: {np.sum(fitter.mask)} ({100*np.sum(fitter.mask)/len(fitter.mask):.1f}%)\")"
   ]
  },
  {
   "cell_type": "markdown",
   "id": "2439ae2c",
   "metadata": {},
   "source": [
    "### 3.2 Create a Synthetic \"Observed\" Spectrum\n",
    "\n",
    "We'll generate a spectrum with known parameters and add noise."
   ]
  },
  {
   "cell_type": "code",
   "execution_count": null,
   "id": "0b6e19f3",
   "metadata": {},
   "outputs": [],
   "source": [
    "# Define \"true\" parameters\n",
    "true_labels = predictor.get_default_labels()\n",
    "true_labels[0] = 5800    # Teff\n",
    "true_labels[1] = 4.2     # logg\n",
    "true_labels[18] = -0.3   # [Fe/H]\n",
    "true_rv = 45.0\n",
    "\n",
    "# Generate spectrum with noise\n",
    "true_spectrum = predictor.predict_spectrum(true_labels, rv=true_rv)\n",
    "np.random.seed(42)\n",
    "noise_level = 0.01\n",
    "observed_spectrum = true_spectrum + np.random.normal(0, noise_level, len(true_spectrum))\n",
    "spec_err = np.ones_like(observed_spectrum) * noise_level\n",
    "\n",
    "print(\"✓ Synthetic 'observed' spectrum created!\")\n",
    "print(f\"True: Teff={true_labels[0]:.0f} K, logg={true_labels[1]:.2f}, [Fe/H]={true_labels[18]:.2f}, RV={true_rv:.1f} km/s\")"
   ]
  },
  {
   "cell_type": "markdown",
   "id": "9ef60947",
   "metadata": {},
   "source": [
    "### 3.3 Fit the Spectrum"
   ]
  },
  {
   "cell_type": "code",
   "execution_count": null,
   "id": "4bf646ac",
   "metadata": {},
   "outputs": [],
   "source": [
    "print(\"🔄 Fitting spectrum...\")\n",
    "fitted_labels, uncertainties, model_spectrum = fitter.fit_spectrum(observed_spectrum, spec_err)\n",
    "print(\"✓ Fit complete!\")"
   ]
  },
  {
   "cell_type": "markdown",
   "id": "9d842235",
   "metadata": {},
   "source": [
    "### 3.4 Display Results"
   ]
  },
  {
   "cell_type": "code",
   "execution_count": null,
   "id": "98813620",
   "metadata": {},
   "outputs": [],
   "source": [
    "print(\"=\"*70)\n",
    "print(\"FITTING RESULTS\")\n",
    "print(\"=\"*70)\n",
    "print(f\"{'Parameter':<12} {'True':>12} {'Fitted':>12} {'Uncertainty':>12}\")\n",
    "print(\"-\"*70)\n",
    "print(f\"{'Teff (K)':<12} {true_labels[0]:>12.1f} {fitted_labels[0]:>12.1f} {uncertainties[0]:>12.1f}\")\n",
    "print(f\"{'logg':<12} {true_labels[1]:>12.2f} {fitted_labels[1]:>12.2f} {uncertainties[1]:>12.2f}\")\n",
    "print(f\"{'[Fe/H]':<12} {true_labels[18]:>12.2f} {fitted_labels[18]:>12.2f} {uncertainties[18]:>12.2f}\")\n",
    "print(f\"{'RV (km/s)':<12} {true_rv:>12.1f} {fitted_labels[-1]:>12.1f} {uncertainties[-1]:>12.1f}\")\n",
    "print(\"=\"*70)\n",
    "\n",
    "# Fit quality\n",
    "chi2, chi2_reduced, dof = fitter.compute_chi2(observed_spectrum, spec_err, fitted_labels[:-1], fitted_labels[-1])\n",
    "print(f\"\\nFit Quality: χ²_red = {chi2_reduced:.3f}\")"
   ]
  },
  {
   "cell_type": "markdown",
   "id": "b86b54a4",
   "metadata": {},
   "source": [
    "### 3.5 Visualize Fit"
   ]
  },
  {
   "cell_type": "code",
   "execution_count": null,
   "id": "8026d235",
   "metadata": {},
   "outputs": [],
   "source": [
    "fig, axes = plt.subplots(2, 1, figsize=(14, 8), sharex=True)\n",
    "\n",
    "# Observed vs Model\n",
    "axes[0].plot(wavelength[mask], observed_spectrum[mask], 'k.', ms=2, label='Observed', alpha=0.5)\n",
    "axes[0].plot(wavelength[mask], model_spectrum[mask], 'r-', lw=2, label='Model', alpha=0.8)\n",
    "axes[0].set_ylabel('Normalized Flux')\n",
    "axes[0].set_title('Spectrum Fitting Results', fontsize=14, fontweight='bold')\n",
    "axes[0].legend()\n",
    "axes[0].grid(True, alpha=0.3)\n",
    "\n",
    "# Residuals\n",
    "residuals = observed_spectrum - model_spectrum\n",
    "axes[1].plot(wavelength[mask], residuals[mask], 'k-', lw=0.8)\n",
    "axes[1].axhline(0, color='r', linestyle='--', lw=2, alpha=0.5)\n",
    "axes[1].set_xlabel('Wavelength (Å)')\n",
    "axes[1].set_ylabel('Residuals')\n",
    "axes[1].grid(True, alpha=0.3)\n",
    "\n",
    "plt.tight_layout()\n",
    "plt.show()"
   ]
  },
  {
   "cell_type": "markdown",
   "id": "68dcf282",
   "metadata": {},
   "source": [
    "---\n",
    "<a id='summary'></a>\n",
    "## 6. Summary & Best Practices\n",
    "\n",
    "### What We Learned\n",
    "\n",
    "✅ **Predicting Spectra**: Use `PaynePredictor` to generate synthetic spectra\n",
    "\n",
    "✅ **Fitting Spectra**: Use `PayneFitter` to determine stellar parameters with uncertainties\n",
    "\n",
    "✅ **Training Models**: Use `PayneTrainer` to create custom neural networks\n",
    "\n",
    "### Best Practices\n",
    "\n",
    "#### For Predictions:\n",
    "- Check labels are within training range\n",
    "- Use `get_default_labels()` as starting point\n",
    "- Apply RV shifts when needed\n",
    "\n",
    "#### For Fitting:\n",
    "- Ensure continuum-normalized spectra\n",
    "- Provide realistic uncertainties\n",
    "- Check reduced χ² (~1 for good fit)\n",
    "- Examine residuals for patterns\n",
    "\n",
    "### Citation\n",
    "\n",
    "📚 **Please cite**: [Ting et al. 2019, ApJ, 879, 69](https://ui.adsabs.harvard.edu/abs/2019ApJ...879...69T/abstract)\n",
    "\n",
    "---\n",
    "\n",
    "## 🎉 Congratulations!\n",
    "\n",
    "You've completed The Payne tutorial. Happy spectral modeling! 🌟"
   ]
  }
 ],
 "metadata": {},
 "nbformat": 4,
 "nbformat_minor": 5
}
